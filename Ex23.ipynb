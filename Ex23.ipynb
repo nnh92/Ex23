{
  "nbformat": 4,
  "nbformat_minor": 0,
  "metadata": {
    "colab": {
      "provenance": [],
      "authorship_tag": "ABX9TyNjjf88JIEbpzW6CjQCy6rV",
      "include_colab_link": true
    },
    "kernelspec": {
      "name": "python3",
      "display_name": "Python 3"
    },
    "language_info": {
      "name": "python"
    }
  },
  "cells": [
    {
      "cell_type": "markdown",
      "metadata": {
        "id": "view-in-github",
        "colab_type": "text"
      },
      "source": [
        "<a href=\"https://colab.research.google.com/github/nnh92/Ex23/blob/main/Ex23.ipynb\" target=\"_parent\"><img src=\"https://colab.research.google.com/assets/colab-badge.svg\" alt=\"Open In Colab\"/></a>"
      ]
    },
    {
      "cell_type": "code",
      "execution_count": null,
      "metadata": {
        "id": "UJjuoG1opTIg"
      },
      "outputs": [],
      "source": [
        "import math\n",
        "f = open('https://raw.githubusercontent.com/nnh92/Ex23/main/Ex23.inp', 'r')\n",
        "\n",
        "f1 = f.readline()\n",
        "\n",
        "f2 = f.readline().split()\n",
        "\n",
        "if f1 == 1:\n",
        "  a, b = map(float,f2)\n",
        "  print('Nghiem cua pt: ', -b/a)\n",
        "else:\n",
        "  a, b, c = map(float, f2)\n",
        "  delta = b*b -4*a*c\n",
        "  if delta < 0:\n",
        "    print('Pt vo nghiem!')\n",
        "  elif delta == 0:\n",
        "    print('Pt co nghiem kep', -b/(2*a))\n",
        "  else:\n",
        "    print('x1 = ', (-b + math.sqrt(delta)/(2*a)))\n",
        "    print('x2 = ', (-b - math.sqrt(delta)/(2*a)))\n",
        "\n",
        "\n",
        "\n",
        "\n",
        "\n"
      ]
    }
  ]
}