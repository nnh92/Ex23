{
  "nbformat": 4,
  "nbformat_minor": 0,
  "metadata": {
    "colab": {
      "provenance": [],
      "authorship_tag": "ABX9TyP5v2usSvDHUwJaNAak1jqx",
      "include_colab_link": true
    },
    "kernelspec": {
      "name": "python3",
      "display_name": "Python 3"
    },
    "language_info": {
      "name": "python"
    }
  },
  "cells": [
    {
      "cell_type": "markdown",
      "metadata": {
        "id": "view-in-github",
        "colab_type": "text"
      },
      "source": [
        "<a href=\"https://colab.research.google.com/github/nnh92/Ex23/blob/main/Ex23.ipynb\" target=\"_parent\"><img src=\"https://colab.research.google.com/assets/colab-badge.svg\" alt=\"Open In Colab\"/></a>"
      ]
    },
    {
      "cell_type": "code",
      "execution_count": null,
      "metadata": {
        "id": "UJjuoG1opTIg"
      },
      "outputs": [],
      "source": [
        "f = open('https://raw.githubusercontent.com/nnh92/Ex23/main/Ex23.inp', 'r')\n",
        "\n",
        "f1 = f.readline()\n",
        "\n",
        "print(f1)\n",
        "\n",
        "\n",
        "\n"
      ]
    }
  ]
}